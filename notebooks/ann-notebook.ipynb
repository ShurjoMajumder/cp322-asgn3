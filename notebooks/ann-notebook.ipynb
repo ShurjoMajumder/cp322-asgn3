{
 "cells": [
  {
   "metadata": {},
   "cell_type": "markdown",
   "source": "# Part 1: ANNs With MNIST Dataset",
   "id": "9f84114362666f34"
  },
  {
   "metadata": {},
   "cell_type": "markdown",
   "source": "## Step 1: Download Datasets and Create Data Ingestion",
   "id": "842e0db8394eb134"
  },
  {
   "cell_type": "code",
   "execution_count": null,
   "id": "initial_id",
   "metadata": {
    "collapsed": true
   },
   "outputs": [],
   "source": [
    ""
   ]
  }
 ],
 "metadata": {
  "kernelspec": {
   "display_name": "Python 3",
   "language": "python",
   "name": "python3"
  },
  "language_info": {
   "codemirror_mode": {
    "name": "ipython",
    "version": 2
   },
   "file_extension": ".py",
   "mimetype": "text/x-python",
   "name": "python",
   "nbconvert_exporter": "python",
   "pygments_lexer": "ipython2",
   "version": "2.7.6"
  }
 },
 "nbformat": 4,
 "nbformat_minor": 5
}
